{
  "nbformat": 4,
  "nbformat_minor": 0,
  "metadata": {
    "colab": {
      "name": "MarceloPugliesi_AI_CA.ipynb",
      "provenance": [],
      "collapsed_sections": [],
      "authorship_tag": "ABX9TyMXArqbugyugcpJjOkvGd6m",
      "include_colab_link": true
    },
    "kernelspec": {
      "name": "python3",
      "display_name": "Python 3"
    },
    "language_info": {
      "name": "python"
    }
  },
  "cells": [
    {
      "cell_type": "markdown",
      "metadata": {
        "id": "view-in-github",
        "colab_type": "text"
      },
      "source": [
        "<a href=\"https://colab.research.google.com/github/masp42/CA_AI/blob/main/MarceloPugliesi_AI_CA.ipynb\" target=\"_parent\"><img src=\"https://colab.research.google.com/assets/colab-badge.svg\" alt=\"Open In Colab\"/></a>"
      ]
    },
    {
      "cell_type": "markdown",
      "source": [
        "# **CCT College AI Continuous Assessment**"
      ],
      "metadata": {
        "id": "TLM6itL6h8nT"
      }
    },
    {
      "cell_type": "markdown",
      "source": [
        "## **CCT College Dublin**\n",
        "## **Assessment Cover Page**\n",
        "\n",
        "\n",
        "Module Title:             Artificial Intelligence\n",
        "\n",
        "Lecturer:                 David McQuaid\n",
        "\n",
        "Student Full Name: Marcelo Antonio Santos Pugliesi\n",
        "\n",
        "Student Number: 2018269\n",
        "\n",
        "Assessment Due Date: 15/12/2021\n",
        "\n",
        "Date of Submission: 15/12/2021\n"
      ],
      "metadata": {
        "id": "Ff4iHaRTiMya"
      }
    },
    {
      "cell_type": "markdown",
      "source": [
        "## **Assessment Task**\n"
      ],
      "metadata": {
        "id": "srPvqmSNjzwA"
      }
    },
    {
      "cell_type": "markdown",
      "source": [
        "### ***Questions***"
      ],
      "metadata": {
        "id": "qWfJseLsj3fb"
      }
    },
    {
      "cell_type": "markdown",
      "source": [
        "1.   A puzzle has multiple ways of reaching the end solution. Fig. 1 shows a graph that represents all possible\n",
        "routes to the solution. The starting point of the game is represented by A, the solution is represented\n",
        "by F. The other points in the graph are possible intermediary stages."
      ],
      "metadata": {
        "id": "gY8wVT-Mj-Tu"
      }
    },
    {
      "cell_type": "markdown",
      "source": [
        "<img src=\"https://github.com/masp42/CA_AI/blob/main/Fig1_CA_AI.png?raw=true\" alt=\"The original puzzle graph\" width=75%/>\n"
      ],
      "metadata": {
        "id": "kkNhWi9_mOmU"
      }
    },
    {
      "cell_type": "markdown",
      "source": [
        "a.   The graph in Fig. 1 is a visualisation of the problem.\n",
        "   *   (i) Identify the differences between a graph and a tree.\n",
        "   *   (ii) Explain how the graph is an abstraction of the problem.\n",
        "   *   (iii) Identify the advantages of using a visualisation such as the one shown in Fig. 1.\n",
        "\n",
        "b.   Demonstrate how Dijkstra’s algorithm would find the shortest path to the solution in Fig.1 through\n",
        "diagrams and written explanation."
      ],
      "metadata": {
        "id": "CIP2ZLkAm5a4"
      }
    },
    {
      "cell_type": "markdown",
      "source": [
        "## (i) Identify the differences between a graph and a tree.\n",
        "\n",
        "Tree is a data structure that simulates a tree  hierarchy, with a root and subtrees of children with a parent node. Graph is data structure organized as a network. Tree can't have loops while graph can. Tree is less complex than graph. "
      ],
      "metadata": {
        "id": "JobMwKZrThqw"
      }
    },
    {
      "cell_type": "markdown",
      "source": [
        "(ii) Explain how the graph is an abstraction of the problem.\n",
        "\n"
      ],
      "metadata": {
        "id": "KIBTrQ7QTjP-"
      }
    },
    {
      "cell_type": "markdown",
      "source": [
        "(iii) Identify the advantages of using a visualisation such as the one shown in Fig. 1."
      ],
      "metadata": {
        "id": "yLaDzrcYTjpe"
      }
    },
    {
      "cell_type": "markdown",
      "source": [
        "b. Demonstrate how Dijkstra’s algorithm would find the shortest path to the solution in Fig.1 through diagrams and written explanation."
      ],
      "metadata": {
        "id": "Y9QcRx5UTeC3"
      }
    },
    {
      "cell_type": "markdown",
      "source": [
        "2. The creator of the puzzle has been told that the A* algorithm is more efficient at finding the shortest\n",
        "path because it uses heuristics. Compare the performance of Dijkstra’s algorithm and the A* search\n",
        "algorithm, making reference to heuristics, to find the shortest path to the problem by implementing both\n",
        "algorithms programmatically and comparing the solutions generated in Mark-down. Refer to the\n",
        "complexity of the algorithms and compare the actual time it takes for the solutions to be processed"
      ],
      "metadata": {
        "id": "c1HHbRpdnFDW"
      }
    },
    {
      "cell_type": "code",
      "source": [
        "import pandas as pd\n",
        "import numpy as np\n",
        "import seaborn as sns\n",
        "import matplotlib.pyplot as plt\n",
        "import statistics as sts\n",
        "import timeit\n",
        "from timeit import Timer"
      ],
      "metadata": {
        "id": "Zp_fC_ZK8VA9"
      },
      "execution_count": null,
      "outputs": []
    },
    {
      "cell_type": "code",
      "source": [
        "df = pd.read_csv(\"https://raw.githubusercontent.com/masp42/CA_AI/main/Graph_Fig1.csv\")  \n"
      ],
      "metadata": {
        "id": "clgiDZlK7slj"
      },
      "execution_count": null,
      "outputs": []
    },
    {
      "cell_type": "code",
      "source": [
        "df.head(15)"
      ],
      "metadata": {
        "colab": {
          "base_uri": "https://localhost:8080/",
          "height": 457
        },
        "id": "dgau_bim-kl2",
        "outputId": "3e132f03-7b5d-4eb5-de18-cee3916e3734"
      },
      "execution_count": null,
      "outputs": [
        {
          "output_type": "execute_result",
          "data": {
            "text/html": [
              "<div>\n",
              "<style scoped>\n",
              "    .dataframe tbody tr th:only-of-type {\n",
              "        vertical-align: middle;\n",
              "    }\n",
              "\n",
              "    .dataframe tbody tr th {\n",
              "        vertical-align: top;\n",
              "    }\n",
              "\n",
              "    .dataframe thead th {\n",
              "        text-align: right;\n",
              "    }\n",
              "</style>\n",
              "<table border=\"1\" class=\"dataframe\">\n",
              "  <thead>\n",
              "    <tr style=\"text-align: right;\">\n",
              "      <th></th>\n",
              "      <th>Node1</th>\n",
              "      <th>Node2</th>\n",
              "      <th>Distance</th>\n",
              "    </tr>\n",
              "  </thead>\n",
              "  <tbody>\n",
              "    <tr>\n",
              "      <th>0</th>\n",
              "      <td>A</td>\n",
              "      <td>B</td>\n",
              "      <td>5</td>\n",
              "    </tr>\n",
              "    <tr>\n",
              "      <th>1</th>\n",
              "      <td>A</td>\n",
              "      <td>C</td>\n",
              "      <td>3</td>\n",
              "    </tr>\n",
              "    <tr>\n",
              "      <th>2</th>\n",
              "      <td>B</td>\n",
              "      <td>C</td>\n",
              "      <td>2</td>\n",
              "    </tr>\n",
              "    <tr>\n",
              "      <th>3</th>\n",
              "      <td>C</td>\n",
              "      <td>D</td>\n",
              "      <td>7</td>\n",
              "    </tr>\n",
              "    <tr>\n",
              "      <th>4</th>\n",
              "      <td>D</td>\n",
              "      <td>A</td>\n",
              "      <td>2</td>\n",
              "    </tr>\n",
              "    <tr>\n",
              "      <th>5</th>\n",
              "      <td>B</td>\n",
              "      <td>G</td>\n",
              "      <td>1</td>\n",
              "    </tr>\n",
              "    <tr>\n",
              "      <th>6</th>\n",
              "      <td>B</td>\n",
              "      <td>E</td>\n",
              "      <td>3</td>\n",
              "    </tr>\n",
              "    <tr>\n",
              "      <th>7</th>\n",
              "      <td>G</td>\n",
              "      <td>E</td>\n",
              "      <td>1</td>\n",
              "    </tr>\n",
              "    <tr>\n",
              "      <th>8</th>\n",
              "      <td>C</td>\n",
              "      <td>E</td>\n",
              "      <td>7</td>\n",
              "    </tr>\n",
              "    <tr>\n",
              "      <th>9</th>\n",
              "      <td>E</td>\n",
              "      <td>D</td>\n",
              "      <td>2</td>\n",
              "    </tr>\n",
              "    <tr>\n",
              "      <th>10</th>\n",
              "      <td>E</td>\n",
              "      <td>F</td>\n",
              "      <td>1</td>\n",
              "    </tr>\n",
              "    <tr>\n",
              "      <th>11</th>\n",
              "      <td>D</td>\n",
              "      <td>F</td>\n",
              "      <td>6</td>\n",
              "    </tr>\n",
              "    <tr>\n",
              "      <th>12</th>\n",
              "      <td>F</td>\n",
              "      <td>F</td>\n",
              "      <td>0</td>\n",
              "    </tr>\n",
              "  </tbody>\n",
              "</table>\n",
              "</div>"
            ],
            "text/plain": [
              "   Node1 Node2  Distance\n",
              "0      A     B         5\n",
              "1      A     C         3\n",
              "2      B     C         2\n",
              "3      C     D         7\n",
              "4      D     A         2\n",
              "5      B     G         1\n",
              "6      B     E         3\n",
              "7      G     E         1\n",
              "8      C     E         7\n",
              "9      E     D         2\n",
              "10     E     F         1\n",
              "11     D     F         6\n",
              "12     F     F         0"
            ]
          },
          "metadata": {},
          "execution_count": 7
        }
      ]
    },
    {
      "cell_type": "markdown",
      "source": [
        "# Dijkstra’s algorithm\n",
        "\n",
        "https://www.codespeedy.com/how-to-implement-dijkstras-shortest-path-algorithm-in-python/"
      ],
      "metadata": {
        "id": "JNrsD60sYBb0"
      }
    },
    {
      "cell_type": "code",
      "source": [
        "class Dijkstra():\n",
        "\n",
        "    def __init__(self):\n",
        "           self.Graph_nodes = dict()\n",
        "\n",
        "    def add(self, graph):\n",
        "            self.Graph_nodes = graph\n",
        "\n",
        "    def dijkstraAlgo(self, start_node, stop_node):\n",
        "\n",
        "            path = {}\n",
        "            adj_node = {}\n",
        "            queue = []\n",
        "            graph = self.Graph_nodes\n",
        "            for node in graph:\n",
        "                path[node] = float(\"inf\")\n",
        "                adj_node[node] = None\n",
        "                queue.append(node)\n",
        "                \n",
        "            path[start_node] = 0\n",
        "            while queue:\n",
        "                # find min distance which wasn't marked as current\n",
        "                key_min = queue[0]\n",
        "                min_val = path[key_min]\n",
        "                for n in range(1, len(queue)):\n",
        "                    if path[queue[n]] < min_val:\n",
        "                        key_min = queue[n]  \n",
        "                        min_val = path[key_min]\n",
        "                cur = key_min\n",
        "                queue.remove(cur)\n",
        "                \n",
        "                for i in graph[cur]:\n",
        "                    alternate = graph[cur][i] + path[cur]\n",
        "                    if path[i] > alternate:\n",
        "                        path[i] = alternate\n",
        "                        adj_node[i] = cur\n",
        "                        \n",
        "                        \n",
        "            print(stop_node, end = '<-')\n",
        "            while True:\n",
        "                stop_node = adj_node[stop_node]\n",
        "                if stop_node is None:\n",
        "                    print(\"\")\n",
        "                    break\n",
        "                print(stop_node, end='<-')\n"
      ],
      "metadata": {
        "id": "cl8giDBZTsL9"
      },
      "execution_count": null,
      "outputs": []
    },
    {
      "cell_type": "markdown",
      "source": [
        "# Pandas Dataframe to dict grouping by column\n",
        "https://stackoverflow.com/questions/48208343/pandas-dataframe-to-dict-grouping-by-column"
      ],
      "metadata": {
        "id": "Ca0_min-dtR6"
      }
    },
    {
      "cell_type": "code",
      "source": [
        "NodeDistance_Dijkstra = df.groupby('Node1').apply(lambda x: dict(zip(x['Node2'],x['Distance']))).to_dict()\n",
        "NodeDistance_Dijkstra"
      ],
      "metadata": {
        "colab": {
          "base_uri": "https://localhost:8080/"
        },
        "id": "TRFiOnJtCf-z",
        "outputId": "cc71417e-e7e2-4910-a06f-28f5690920c1"
      },
      "execution_count": null,
      "outputs": [
        {
          "output_type": "execute_result",
          "data": {
            "text/plain": [
              "{'A': {'B': 5, 'C': 3},\n",
              " 'B': {'C': 2, 'E': 3, 'G': 1},\n",
              " 'C': {'D': 7, 'E': 7},\n",
              " 'D': {'A': 2, 'F': 6},\n",
              " 'E': {'D': 2, 'F': 1},\n",
              " 'F': {'F': 0},\n",
              " 'G': {'E': 1}}"
            ]
          },
          "metadata": {},
          "execution_count": 9
        }
      ]
    },
    {
      "cell_type": "code",
      "source": [
        "def runDijkstra():\n",
        "    dijkstra = Dijkstra()\n",
        "    dijkstra.add(NodeDistance_Dijkstra)\n",
        "    dijkstra.dijkstraAlgo(\"A\", \"F\")\n",
        "\n",
        "runDijkstra()"
      ],
      "metadata": {
        "colab": {
          "base_uri": "https://localhost:8080/"
        },
        "id": "vsOx4rKlS95D",
        "outputId": "1f996b5d-9977-4a3d-af06-4310cb2cc40e"
      },
      "execution_count": null,
      "outputs": [
        {
          "output_type": "stream",
          "name": "stdout",
          "text": [
            "F<-E<-G<-B<-A<-\n"
          ]
        }
      ]
    },
    {
      "cell_type": "markdown",
      "source": [
        "# A* Algorithm\n",
        "https://www.mygreatlearning.com/blog/a-search-algorithm-in-artificial-intelligence/"
      ],
      "metadata": {
        "id": "qHNs5tY0Supi"
      }
    },
    {
      "cell_type": "code",
      "source": [
        "class AStar ():\n",
        "\n",
        "    def __init__(self):\n",
        "           self.Graph_nodes = dict()\n",
        "\n",
        "    def add(self, graph):\n",
        "            self.Graph_nodes = graph\n",
        "\n",
        "    def aStarAlgo(self, start_node, stop_node):\n",
        "            \n",
        "            open_set = set(start_node) \n",
        "            closed_set = set()\n",
        "            g = {} #store distance from starting node\n",
        "            parents = {}# parents contains an adjacency map of all nodes\n",
        "    \n",
        "            #ditance of starting node from itself is zero\n",
        "            g[start_node] = 0\n",
        "            #start_node is root node i.e it has no parent nodes\n",
        "            #so start_node is set to its own parent node\n",
        "            parents[start_node] = start_node\n",
        "            \n",
        "            \n",
        "            while len(open_set) > 0:\n",
        "                n = None\n",
        "    \n",
        "                #node with lowest f() is found\n",
        "                for v in open_set:\n",
        "                    if n == None or g[v] < g[n]:\n",
        "                        n = v\n",
        "                \n",
        "                        \n",
        "                if n == stop_node or self.Graph_nodes[n] == None:\n",
        "                    pass\n",
        "                else:                    \n",
        "                    for (m, weight) in self.get_neighbors(n):\n",
        "                        #nodes 'm' not in first and last set are added to first\n",
        "                        #n is set its parent\n",
        "                        if m not in open_set and m not in closed_set:\n",
        "                            open_set.add(m)\n",
        "                            parents[m] = n\n",
        "                            g[m] = g[n] + weight\n",
        "                            \n",
        "        \n",
        "                        #for each node m,compare its distance from start i.e g(m) to the\n",
        "                        #from start through n node\n",
        "                        else:\n",
        "                            if g[m] > g[n] + weight:\n",
        "                                #update g(m)\n",
        "                                g[m] = g[n] + weight\n",
        "                                #change parent of m to n\n",
        "                                parents[m] = n\n",
        "                                \n",
        "                                #if m in closed set,remove and add to open\n",
        "                                if m in closed_set:\n",
        "                                    closed_set.remove(m)\n",
        "                                    open_set.add(m)\n",
        "    \n",
        "                if n == None:\n",
        "                    print('Path does not exist!')\n",
        "                    return None\n",
        "    \n",
        "                # if the current node is the stop_node\n",
        "                # then we begin reconstructin the path from it to the start_node\n",
        "                if n == stop_node:\n",
        "                    path = []\n",
        "    \n",
        "                    while parents[n] != n:\n",
        "                        path.append(n)\n",
        "                        n = parents[n]\n",
        "    \n",
        "                    path.append(start_node)\n",
        "    \n",
        "                    path.reverse()\n",
        "    \n",
        "                    print('Path found: {}'.format(path))\n",
        "                    return path\n",
        "    \n",
        "    \n",
        "                # remove n from the open_list, and add it to closed_list\n",
        "                # because all of his neighbors were inspected\n",
        "                open_set.remove(n)\n",
        "                closed_set.add(n)\n",
        "    \n",
        "            print('Path does not exist!')\n",
        "            return None\n",
        "\n",
        "#==================================================================================\n",
        "\n",
        "    #define fuction to return neighbor and its distance\n",
        "    #from the passed node\n",
        "    def get_neighbors(self, v):\n",
        "        if v in self.Graph_nodes:\n",
        "            return self.Graph_nodes[v]\n",
        "        else:\n",
        "            return None\n",
        "    #for simplicity we ll consider heuristic distances given\n",
        "    #and this function returns heuristic distance for all nodes\n",
        "    def heuristic(self, n):\n",
        "            H_dist = {\n",
        "                'A': 11,\n",
        "                'B': 6,\n",
        "                'C': 99,\n",
        "                'D': 1,\n",
        "                'E': 7,\n",
        "                'G': 0,\n",
        "                \n",
        "            }\n",
        "    \n",
        "            return H_dist[n]\n",
        "\n",
        "\n"
      ],
      "metadata": {
        "id": "kuseTB34JvOO"
      },
      "execution_count": null,
      "outputs": []
    },
    {
      "cell_type": "markdown",
      "source": [
        "# How to convert a dict of lists to a list of tuples of key and value in python?\n",
        "https://stackoverflow.com/questions/28807508/how-to-convert-a-dict-of-lists-to-a-list-of-tuples-of-key-and-value-in-python"
      ],
      "metadata": {
        "id": "wt0o9bPNg1N_"
      }
    },
    {
      "cell_type": "code",
      "source": [
        "NodeDistance = df.groupby('Node1')[['Node2', 'Distance']].apply(lambda g: list(map(tuple, g.values.tolist()))).to_dict()\n",
        "NodeDistance"
      ],
      "metadata": {
        "colab": {
          "base_uri": "https://localhost:8080/"
        },
        "id": "BAWvu7aQItDw",
        "outputId": "103265ac-e835-40dc-baa5-e85ed9c94c56"
      },
      "execution_count": null,
      "outputs": [
        {
          "output_type": "execute_result",
          "data": {
            "text/plain": [
              "{'A': [('B', 5), ('C', 3)],\n",
              " 'B': [('C', 2), ('G', 1), ('E', 3)],\n",
              " 'C': [('D', 7), ('E', 7)],\n",
              " 'D': [('A', 2), ('F', 6)],\n",
              " 'E': [('D', 2), ('F', 1)],\n",
              " 'F': [('F', 0)],\n",
              " 'G': [('E', 1)]}"
            ]
          },
          "metadata": {},
          "execution_count": 12
        }
      ]
    },
    {
      "cell_type": "code",
      "source": [
        "def runAStar():\n",
        "    astar = AStar()\n",
        "    astar.add(NodeDistance)\n",
        "    astar.aStarAlgo(\"A\",\"F\")\n",
        "\n",
        "runAStar()"
      ],
      "metadata": {
        "colab": {
          "base_uri": "https://localhost:8080/"
        },
        "id": "hEzQro9CJOi3",
        "outputId": "1c52a6ad-35e3-48c1-c2c5-1d2a2292e9fd"
      },
      "execution_count": null,
      "outputs": [
        {
          "output_type": "stream",
          "name": "stdout",
          "text": [
            "Path found: ['A', 'B', 'G', 'E', 'F']\n"
          ]
        }
      ]
    },
    {
      "cell_type": "markdown",
      "source": [
        "# Dijkstra vs A* Performance\n",
        "# Comparison using Python Timer Function\n",
        "https://realpython.com/python-timer/"
      ],
      "metadata": {
        "id": "N-3wAOaFYJVv"
      }
    },
    {
      "cell_type": "code",
      "source": [
        "print(\"Dijkstra\", Timer(\"runDijkstra()\", \"from __main__ import runDijkstra\").timeit(number=1))\n",
        "print(\"A*\", Timer(\"runAStar()\", \"from __main__ import runAStar\").timeit(number=1))"
      ],
      "metadata": {
        "colab": {
          "base_uri": "https://localhost:8080/"
        },
        "id": "7N6NC24SYNk3",
        "outputId": "323d3e57-3e75-49b4-8462-b35e7371ec5c"
      },
      "execution_count": null,
      "outputs": [
        {
          "output_type": "stream",
          "name": "stdout",
          "text": [
            "F<-E<-G<-B<-A<-\n",
            "Dijkstra 0.00028709000002891116\n",
            "Path found: ['A', 'B', 'G', 'E', 'F']\n",
            "A* 0.00012572999980875466\n"
          ]
        }
      ]
    },
    {
      "cell_type": "markdown",
      "source": [
        "A* ALGORITHM CONCEPTS AND IMPLEMENTATION In-text: (A* Algorithm Concepts and Implementation, 2021) Your Bibliography: Simplilearn. 2021. A* Algorithm Concepts and Implementation. [online] Available at: https://www.simplilearn.com/tutorials/artificial-intelligence-tutorial/a-star-algorithm [Accessed 12 December 2021]\n",
        "\n",
        "DEV Community (2018). Dijkstra’s algorithm in python: algorithms for beginners. [online] The DEV Community. Available at: https://dev.to/mxl/dijkstras-algorithm-in-python-algorithms-for-beginners-dkc. [Accessed 10 December 2021]\n",
        "\n",
        "What is the Difference Between Tree and Graph (2019), Lithmee [Online] Available at: https://pediaa.com/what-is-the-difference-between-tree-and-graph/ [Accessed 15 December 2021]"
      ],
      "metadata": {
        "id": "onb3Y2YJqxD8"
      }
    }
  ]
}