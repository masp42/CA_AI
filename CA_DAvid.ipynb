{
  "nbformat": 4,
  "nbformat_minor": 0,
  "metadata": {
    "colab": {
      "name": "CA_DAvid.ipynb",
      "provenance": [],
      "collapsed_sections": [],
      "authorship_tag": "ABX9TyMybBrR4+tjfPtcHWZaezuj",
      "include_colab_link": true
    },
    "kernelspec": {
      "name": "python3",
      "display_name": "Python 3"
    },
    "language_info": {
      "name": "python"
    }
  },
  "cells": [
    {
      "cell_type": "markdown",
      "metadata": {
        "id": "view-in-github",
        "colab_type": "text"
      },
      "source": [
        "<a href=\"https://colab.research.google.com/github/masp42/CA_AI/blob/main/CA_DAvid.ipynb\" target=\"_parent\"><img src=\"https://colab.research.google.com/assets/colab-badge.svg\" alt=\"Open In Colab\"/></a>"
      ]
    },
    {
      "cell_type": "code",
      "source": [
        "import pandas as pd\n",
        "import numpy as np\n",
        "import seaborn as sns\n",
        "import matplotlib.pyplot as plt\n",
        "import statistics as sts"
      ],
      "metadata": {
        "id": "Zp_fC_ZK8VA9"
      },
      "execution_count": 8,
      "outputs": []
    },
    {
      "cell_type": "code",
      "source": [
        "df = pd.read_csv(\"https://raw.githubusercontent.com/masp42/CA_AI/main/Graph_Fig1.csv\")  \n"
      ],
      "metadata": {
        "id": "clgiDZlK7slj"
      },
      "execution_count": 9,
      "outputs": []
    },
    {
      "cell_type": "code",
      "source": [
        "df.head()"
      ],
      "metadata": {
        "colab": {
          "base_uri": "https://localhost:8080/",
          "height": 206
        },
        "id": "dgau_bim-kl2",
        "outputId": "67e80706-4fd9-4e87-b51b-4f6dd248a29f"
      },
      "execution_count": 13,
      "outputs": [
        {
          "output_type": "execute_result",
          "data": {
            "text/html": [
              "<div>\n",
              "<style scoped>\n",
              "    .dataframe tbody tr th:only-of-type {\n",
              "        vertical-align: middle;\n",
              "    }\n",
              "\n",
              "    .dataframe tbody tr th {\n",
              "        vertical-align: top;\n",
              "    }\n",
              "\n",
              "    .dataframe thead th {\n",
              "        text-align: right;\n",
              "    }\n",
              "</style>\n",
              "<table border=\"1\" class=\"dataframe\">\n",
              "  <thead>\n",
              "    <tr style=\"text-align: right;\">\n",
              "      <th></th>\n",
              "      <th>Node1</th>\n",
              "      <th>Node2</th>\n",
              "      <th>Distance</th>\n",
              "    </tr>\n",
              "  </thead>\n",
              "  <tbody>\n",
              "    <tr>\n",
              "      <th>0</th>\n",
              "      <td>A</td>\n",
              "      <td>B</td>\n",
              "      <td>5</td>\n",
              "    </tr>\n",
              "    <tr>\n",
              "      <th>1</th>\n",
              "      <td>A</td>\n",
              "      <td>C</td>\n",
              "      <td>3</td>\n",
              "    </tr>\n",
              "    <tr>\n",
              "      <th>2</th>\n",
              "      <td>B</td>\n",
              "      <td>C</td>\n",
              "      <td>2</td>\n",
              "    </tr>\n",
              "    <tr>\n",
              "      <th>3</th>\n",
              "      <td>C</td>\n",
              "      <td>D</td>\n",
              "      <td>7</td>\n",
              "    </tr>\n",
              "    <tr>\n",
              "      <th>4</th>\n",
              "      <td>D</td>\n",
              "      <td>A</td>\n",
              "      <td>2</td>\n",
              "    </tr>\n",
              "  </tbody>\n",
              "</table>\n",
              "</div>"
            ],
            "text/plain": [
              "  Node1 Node2  Distance\n",
              "0     A     B         5\n",
              "1     A     C         3\n",
              "2     B     C         2\n",
              "3     C     D         7\n",
              "4     D     A         2"
            ]
          },
          "metadata": {},
          "execution_count": 13
        }
      ]
    },
    {
      "cell_type": "code",
      "source": [
        "# Dijkstra’s algorithm\n",
        "\n",
        "def initial_graph() :\n",
        "    \n",
        "    return {\n",
        "            \n",
        "        'A': {'B':1, 'C':4, 'D':2},\n",
        "        'B': {'A':9, 'E':5},\n",
        "        'C': {'A':4, 'F':15},\n",
        "        'D': {'A':10, 'F':7},\n",
        "        'E': {'B':3, 'J':7},\n",
        "        'F': {'C':11, 'D':14, 'K':3, 'G':9},\n",
        "        'G': {'F':12, 'I':4},\n",
        "        'H': {'J':13},\n",
        "        'I': {'G':6, 'J':7},\n",
        "        'J': {'H':2, 'I':4},\n",
        "        'K': {'F':6}\n",
        "            \n",
        "            \n",
        "            \n",
        "            }\n",
        "print(initial_graph())\n",
        "    \n",
        "initial = 'A'\n",
        "path = {}\n",
        "adj_node = {}\n",
        "queue = []\n",
        "graph = initial_graph()\n",
        "for node in graph:\n",
        "    path[node] = float(\"inf\")\n",
        "    adj_node[node] = None\n",
        "    queue.append(node)\n",
        "    \n",
        "path[initial] = 0\n",
        "while queue:\n",
        "    # find min distance which wasn't marked as current\n",
        "    key_min = queue[0]\n",
        "    min_val = path[key_min]\n",
        "    for n in range(1, len(queue)):\n",
        "        if path[queue[n]] < min_val:\n",
        "            key_min = queue[n]  \n",
        "            min_val = path[key_min]\n",
        "    cur = key_min\n",
        "    queue.remove(cur)\n",
        "    print(cur)\n",
        "    \n",
        "    for i in graph[cur]:\n",
        "        alternate = graph[cur][i] + path[cur]\n",
        "        if path[i] > alternate:\n",
        "            path[i] = alternate\n",
        "            adj_node[i] = cur\n",
        "            \n",
        "            \n",
        "x = 'H'\n",
        "print('The path between A to H')\n",
        "print(x, end = '<-')\n",
        "while True:\n",
        "    x = adj_node[x]\n",
        "    if x is None:\n",
        "        print(\"\")\n",
        "        break\n",
        "    print(x, end='<-')"
      ],
      "metadata": {
        "colab": {
          "base_uri": "https://localhost:8080/"
        },
        "id": "Styv2bJt3GUv",
        "outputId": "ff5bc329-1a4a-47fb-da81-e126717c754b"
      },
      "execution_count": 30,
      "outputs": [
        {
          "output_type": "stream",
          "name": "stdout",
          "text": [
            "{'A': {'B': 1, 'C': 4, 'D': 2}, 'B': {'A': 9, 'E': 5}, 'C': {'A': 4, 'F': 15}, 'D': {'A': 10, 'F': 7}, 'E': {'B': 3, 'J': 7}, 'F': {'C': 11, 'D': 14, 'K': 3, 'G': 9}, 'G': {'F': 12, 'I': 4}, 'H': {'J': 13}, 'I': {'G': 6, 'J': 7}, 'J': {'H': 2, 'I': 4}, 'K': {'F': 6}}\n",
            "A\n",
            "B\n",
            "D\n",
            "C\n",
            "E\n",
            "F\n",
            "K\n",
            "J\n",
            "H\n",
            "I\n",
            "G\n",
            "The path between A to H\n",
            "H<-J<-E<-B<-A<-\n"
          ]
        }
      ]
    },
    {
      "cell_type": "code",
      "source": [
        "class Dijkstra():\n",
        "\n",
        "    def __init__(self):\n",
        "           self.Graph_nodes = dict()\n",
        "\n",
        "    def add(self, graph):\n",
        "            self.Graph_nodes = graph\n",
        "\n",
        "    def dijkstraAlgo(self, start_node, stop_node):\n",
        "\n",
        "            path = {}\n",
        "            adj_node = {}\n",
        "            queue = []\n",
        "            graph = initial_graph()\n",
        "            for node in graph:\n",
        "                path[node] = float(\"inf\")\n",
        "                adj_node[node] = None\n",
        "                queue.append(node)\n",
        "                \n",
        "            path[initial] = 0\n",
        "            while queue:\n",
        "                # find min distance which wasn't marked as current\n",
        "                key_min = queue[0]\n",
        "                min_val = path[key_min]\n",
        "                for n in range(1, len(queue)):\n",
        "                    if path[queue[n]] < min_val:\n",
        "                        key_min = queue[n]  \n",
        "                        min_val = path[key_min]\n",
        "                cur = key_min\n",
        "                queue.remove(cur)\n",
        "                print(cur)\n",
        "                \n",
        "                for i in graph[cur]:\n",
        "                    alternate = graph[cur][i] + path[cur]\n",
        "                    if path[i] > alternate:\n",
        "                        path[i] = alternate\n",
        "                        adj_node[i] = cur\n",
        "                        \n",
        "                        \n",
        "            x = 'H'\n",
        "            print('The path between A to H')\n",
        "            print(x, end = '<-')\n",
        "            while True:\n",
        "                x = adj_node[x]\n",
        "                if x is None:\n",
        "                    print(\"\")\n",
        "                    break\n",
        "                print(x, end='<-')\n"
      ],
      "metadata": {
        "id": "cl8giDBZTsL9"
      },
      "execution_count": null,
      "outputs": []
    },
    {
      "cell_type": "code",
      "source": [
        "NodeDistance_Dijkstra = df.groupby('Node1').apply(lambda x: dict(zip(x['Node2'],x['Distance'])))\n",
        "NodeDistance_Dijkstra"
      ],
      "metadata": {
        "colab": {
          "base_uri": "https://localhost:8080/"
        },
        "id": "TRFiOnJtCf-z",
        "outputId": "83dc553d-e824-436b-96d8-48209b5fe5fe"
      },
      "execution_count": 31,
      "outputs": [
        {
          "output_type": "execute_result",
          "data": {
            "text/plain": [
              "Node1\n",
              "A            {'B': 5, 'C': 3}\n",
              "B    {'C': 2, 'G': 1, 'E': 3}\n",
              "C            {'D': 7, 'E': 7}\n",
              "D            {'A': 2, 'F': 6}\n",
              "E            {'D': 2, 'F': 1}\n",
              "G                    {'E': 1}\n",
              "dtype: object"
            ]
          },
          "metadata": {},
          "execution_count": 31
        }
      ]
    },
    {
      "cell_type": "code",
      "source": [
        ""
      ],
      "metadata": {
        "id": "vsOx4rKlS95D"
      },
      "execution_count": null,
      "outputs": []
    },
    {
      "cell_type": "markdown",
      "source": [
        "# A* Algorithm"
      ],
      "metadata": {
        "id": "qHNs5tY0Supi"
      }
    },
    {
      "cell_type": "code",
      "source": [
        "class AStar ():\n",
        "\n",
        "    def __init__(self):\n",
        "           self.Graph_nodes = dict()\n",
        "\n",
        "    def add(self, graph):\n",
        "            self.Graph_nodes = graph\n",
        "\n",
        "    def aStarAlgo(self, start_node, stop_node):\n",
        "            \n",
        "            open_set = set(start_node) \n",
        "            closed_set = set()\n",
        "            g = {} #store distance from starting node\n",
        "            parents = {}# parents contains an adjacency map of all nodes\n",
        "    \n",
        "            #ditance of starting node from itself is zero\n",
        "            g[start_node] = 0\n",
        "            #start_node is root node i.e it has no parent nodes\n",
        "            #so start_node is set to its own parent node\n",
        "            parents[start_node] = start_node\n",
        "            \n",
        "            \n",
        "            while len(open_set) > 0:\n",
        "                n = None\n",
        "    \n",
        "                #node with lowest f() is found\n",
        "                for v in open_set:\n",
        "                    if n == None or g[v] < g[n]:\n",
        "                        n = v\n",
        "                \n",
        "                        \n",
        "                if n == stop_node or self.Graph_nodes[n] == None:\n",
        "                    pass\n",
        "                else:                    \n",
        "                    for (m, weight) in self.get_neighbors(n):\n",
        "                        #nodes 'm' not in first and last set are added to first\n",
        "                        #n is set its parent\n",
        "                        if m not in open_set and m not in closed_set:\n",
        "                            open_set.add(m)\n",
        "                            parents[m] = n\n",
        "                            g[m] = g[n] + weight\n",
        "                            \n",
        "        \n",
        "                        #for each node m,compare its distance from start i.e g(m) to the\n",
        "                        #from start through n node\n",
        "                        else:\n",
        "                            if g[m] > g[n] + weight:\n",
        "                                #update g(m)\n",
        "                                g[m] = g[n] + weight\n",
        "                                #change parent of m to n\n",
        "                                parents[m] = n\n",
        "                                \n",
        "                                #if m in closed set,remove and add to open\n",
        "                                if m in closed_set:\n",
        "                                    closed_set.remove(m)\n",
        "                                    open_set.add(m)\n",
        "    \n",
        "                if n == None:\n",
        "                    print('Path does not exist!')\n",
        "                    return None\n",
        "    \n",
        "                # if the current node is the stop_node\n",
        "                # then we begin reconstructin the path from it to the start_node\n",
        "                if n == stop_node:\n",
        "                    path = []\n",
        "    \n",
        "                    while parents[n] != n:\n",
        "                        path.append(n)\n",
        "                        n = parents[n]\n",
        "    \n",
        "                    path.append(start_node)\n",
        "    \n",
        "                    path.reverse()\n",
        "    \n",
        "                    print('Path found: {}'.format(path))\n",
        "                    return path\n",
        "    \n",
        "    \n",
        "                # remove n from the open_list, and add it to closed_list\n",
        "                # because all of his neighbors were inspected\n",
        "                open_set.remove(n)\n",
        "                closed_set.add(n)\n",
        "    \n",
        "            print('Path does not exist!')\n",
        "            return None\n",
        "\n",
        "#==================================================================================\n",
        "\n",
        "    #define fuction to return neighbor and its distance\n",
        "    #from the passed node\n",
        "    def get_neighbors(self, v):\n",
        "        if v in self.Graph_nodes:\n",
        "            return self.Graph_nodes[v]\n",
        "        else:\n",
        "            return None\n",
        "    #for simplicity we ll consider heuristic distances given\n",
        "    #and this function returns heuristic distance for all nodes\n",
        "    def heuristic(self, n):\n",
        "            H_dist = {\n",
        "                'A': 11,\n",
        "                'B': 6,\n",
        "                'C': 99,\n",
        "                'D': 1,\n",
        "                'E': 7,\n",
        "                'G': 0,\n",
        "                \n",
        "            }\n",
        "    \n",
        "            return H_dist[n]\n",
        "\n",
        "\n"
      ],
      "metadata": {
        "id": "kuseTB34JvOO"
      },
      "execution_count": 26,
      "outputs": []
    },
    {
      "cell_type": "code",
      "source": [
        "NodeDistance = df.groupby('Node1')[['Node2', 'Distance']].apply(lambda g: list(map(tuple, g.values.tolist()))).to_dict()\n",
        "NodeDistance"
      ],
      "metadata": {
        "colab": {
          "base_uri": "https://localhost:8080/"
        },
        "id": "BAWvu7aQItDw",
        "outputId": "9432e34d-7fa6-40bf-bb9e-96dc0ef625a9"
      },
      "execution_count": 27,
      "outputs": [
        {
          "output_type": "execute_result",
          "data": {
            "text/plain": [
              "{'A': [('B', 5), ('C', 3)],\n",
              " 'B': [('C', 2), ('G', 1), ('E', 3)],\n",
              " 'C': [('D', 7), ('E', 7)],\n",
              " 'D': [('A', 2), ('F', 6)],\n",
              " 'E': [('D', 2), ('F', 1)],\n",
              " 'G': [('E', 1)]}"
            ]
          },
          "metadata": {},
          "execution_count": 27
        }
      ]
    },
    {
      "cell_type": "code",
      "source": [
        "astar = AStar()\n",
        "astar.add(NodeDistance)\n",
        "astar.aStarAlgo(\"A\",\"F\")"
      ],
      "metadata": {
        "colab": {
          "base_uri": "https://localhost:8080/"
        },
        "id": "hEzQro9CJOi3",
        "outputId": "082bb884-5f82-4793-a350-a5317f957fbc"
      },
      "execution_count": 29,
      "outputs": [
        {
          "output_type": "stream",
          "name": "stdout",
          "text": [
            "Path found: ['A', 'B', 'G', 'E', 'F']\n"
          ]
        },
        {
          "output_type": "execute_result",
          "data": {
            "text/plain": [
              "['A', 'B', 'G', 'E', 'F']"
            ]
          },
          "metadata": {},
          "execution_count": 29
        }
      ]
    }
  ]
}