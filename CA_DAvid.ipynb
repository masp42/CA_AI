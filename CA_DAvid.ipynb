{
  "nbformat": 4,
  "nbformat_minor": 0,
  "metadata": {
    "colab": {
      "name": "CA_DAvid.ipynb",
      "provenance": [],
      "collapsed_sections": [],
      "authorship_tag": "ABX9TyPBIqlVkSxqxpc8QVLzqKG+",
      "include_colab_link": true
    },
    "kernelspec": {
      "name": "python3",
      "display_name": "Python 3"
    },
    "language_info": {
      "name": "python"
    }
  },
  "cells": [
    {
      "cell_type": "markdown",
      "metadata": {
        "id": "view-in-github",
        "colab_type": "text"
      },
      "source": [
        "<a href=\"https://colab.research.google.com/github/masp42/CA_AI/blob/main/CA_DAvid.ipynb\" target=\"_parent\"><img src=\"https://colab.research.google.com/assets/colab-badge.svg\" alt=\"Open In Colab\"/></a>"
      ]
    },
    {
      "cell_type": "code",
      "source": [
        "import pandas as pd\n",
        "import numpy as np\n",
        "import seaborn as sns\n",
        "import matplotlib.pyplot as plt\n",
        "import statistics as sts\n",
        "import timeit\n",
        "from timeit import Timer"
      ],
      "metadata": {
        "id": "Zp_fC_ZK8VA9"
      },
      "execution_count": 44,
      "outputs": []
    },
    {
      "cell_type": "code",
      "source": [
        "df = pd.read_csv(\"https://raw.githubusercontent.com/masp42/CA_AI/main/Graph_Fig1.csv\")  \n"
      ],
      "metadata": {
        "id": "clgiDZlK7slj"
      },
      "execution_count": 38,
      "outputs": []
    },
    {
      "cell_type": "code",
      "source": [
        "df.head(15)"
      ],
      "metadata": {
        "colab": {
          "base_uri": "https://localhost:8080/",
          "height": 457
        },
        "id": "dgau_bim-kl2",
        "outputId": "8116118b-24c7-4581-c7da-5e53e04484d7"
      },
      "execution_count": 39,
      "outputs": [
        {
          "output_type": "execute_result",
          "data": {
            "text/html": [
              "<div>\n",
              "<style scoped>\n",
              "    .dataframe tbody tr th:only-of-type {\n",
              "        vertical-align: middle;\n",
              "    }\n",
              "\n",
              "    .dataframe tbody tr th {\n",
              "        vertical-align: top;\n",
              "    }\n",
              "\n",
              "    .dataframe thead th {\n",
              "        text-align: right;\n",
              "    }\n",
              "</style>\n",
              "<table border=\"1\" class=\"dataframe\">\n",
              "  <thead>\n",
              "    <tr style=\"text-align: right;\">\n",
              "      <th></th>\n",
              "      <th>Node1</th>\n",
              "      <th>Node2</th>\n",
              "      <th>Distance</th>\n",
              "    </tr>\n",
              "  </thead>\n",
              "  <tbody>\n",
              "    <tr>\n",
              "      <th>0</th>\n",
              "      <td>A</td>\n",
              "      <td>B</td>\n",
              "      <td>5</td>\n",
              "    </tr>\n",
              "    <tr>\n",
              "      <th>1</th>\n",
              "      <td>A</td>\n",
              "      <td>C</td>\n",
              "      <td>3</td>\n",
              "    </tr>\n",
              "    <tr>\n",
              "      <th>2</th>\n",
              "      <td>B</td>\n",
              "      <td>C</td>\n",
              "      <td>2</td>\n",
              "    </tr>\n",
              "    <tr>\n",
              "      <th>3</th>\n",
              "      <td>C</td>\n",
              "      <td>D</td>\n",
              "      <td>7</td>\n",
              "    </tr>\n",
              "    <tr>\n",
              "      <th>4</th>\n",
              "      <td>D</td>\n",
              "      <td>A</td>\n",
              "      <td>2</td>\n",
              "    </tr>\n",
              "    <tr>\n",
              "      <th>5</th>\n",
              "      <td>B</td>\n",
              "      <td>G</td>\n",
              "      <td>1</td>\n",
              "    </tr>\n",
              "    <tr>\n",
              "      <th>6</th>\n",
              "      <td>B</td>\n",
              "      <td>E</td>\n",
              "      <td>3</td>\n",
              "    </tr>\n",
              "    <tr>\n",
              "      <th>7</th>\n",
              "      <td>G</td>\n",
              "      <td>E</td>\n",
              "      <td>1</td>\n",
              "    </tr>\n",
              "    <tr>\n",
              "      <th>8</th>\n",
              "      <td>C</td>\n",
              "      <td>E</td>\n",
              "      <td>7</td>\n",
              "    </tr>\n",
              "    <tr>\n",
              "      <th>9</th>\n",
              "      <td>E</td>\n",
              "      <td>D</td>\n",
              "      <td>2</td>\n",
              "    </tr>\n",
              "    <tr>\n",
              "      <th>10</th>\n",
              "      <td>E</td>\n",
              "      <td>F</td>\n",
              "      <td>1</td>\n",
              "    </tr>\n",
              "    <tr>\n",
              "      <th>11</th>\n",
              "      <td>D</td>\n",
              "      <td>F</td>\n",
              "      <td>6</td>\n",
              "    </tr>\n",
              "    <tr>\n",
              "      <th>12</th>\n",
              "      <td>F</td>\n",
              "      <td>F</td>\n",
              "      <td>0</td>\n",
              "    </tr>\n",
              "  </tbody>\n",
              "</table>\n",
              "</div>"
            ],
            "text/plain": [
              "   Node1 Node2  Distance\n",
              "0      A     B         5\n",
              "1      A     C         3\n",
              "2      B     C         2\n",
              "3      C     D         7\n",
              "4      D     A         2\n",
              "5      B     G         1\n",
              "6      B     E         3\n",
              "7      G     E         1\n",
              "8      C     E         7\n",
              "9      E     D         2\n",
              "10     E     F         1\n",
              "11     D     F         6\n",
              "12     F     F         0"
            ]
          },
          "metadata": {},
          "execution_count": 39
        }
      ]
    },
    {
      "cell_type": "markdown",
      "source": [
        "# Dijkstra’s algorithm"
      ],
      "metadata": {
        "id": "JNrsD60sYBb0"
      }
    },
    {
      "cell_type": "code",
      "source": [
        "class Dijkstra():\n",
        "\n",
        "    def __init__(self):\n",
        "           self.Graph_nodes = dict()\n",
        "\n",
        "    def add(self, graph):\n",
        "            self.Graph_nodes = graph\n",
        "\n",
        "    def dijkstraAlgo(self, start_node, stop_node):\n",
        "\n",
        "            path = {}\n",
        "            adj_node = {}\n",
        "            queue = []\n",
        "            graph = self.Graph_nodes\n",
        "            for node in graph:\n",
        "                path[node] = float(\"inf\")\n",
        "                adj_node[node] = None\n",
        "                queue.append(node)\n",
        "                \n",
        "            path[start_node] = 0\n",
        "            while queue:\n",
        "                # find min distance which wasn't marked as current\n",
        "                key_min = queue[0]\n",
        "                min_val = path[key_min]\n",
        "                for n in range(1, len(queue)):\n",
        "                    if path[queue[n]] < min_val:\n",
        "                        key_min = queue[n]  \n",
        "                        min_val = path[key_min]\n",
        "                cur = key_min\n",
        "                queue.remove(cur)\n",
        "                \n",
        "                for i in graph[cur]:\n",
        "                    alternate = graph[cur][i] + path[cur]\n",
        "                    if path[i] > alternate:\n",
        "                        path[i] = alternate\n",
        "                        adj_node[i] = cur\n",
        "                        \n",
        "                        \n",
        "            print(stop_node, end = '<-')\n",
        "            while True:\n",
        "                stop_node = adj_node[stop_node]\n",
        "                if stop_node is None:\n",
        "                    print(\"\")\n",
        "                    break\n",
        "                print(stop_node, end='<-')\n"
      ],
      "metadata": {
        "id": "cl8giDBZTsL9"
      },
      "execution_count": 48,
      "outputs": []
    },
    {
      "cell_type": "code",
      "source": [
        "NodeDistance_Dijkstra = df.groupby('Node1').apply(lambda x: dict(zip(x['Node2'],x['Distance']))).to_dict()\n",
        "NodeDistance_Dijkstra"
      ],
      "metadata": {
        "colab": {
          "base_uri": "https://localhost:8080/"
        },
        "id": "TRFiOnJtCf-z",
        "outputId": "678eecfa-53c2-4e1d-868a-2d128d235c3b"
      },
      "execution_count": 49,
      "outputs": [
        {
          "output_type": "execute_result",
          "data": {
            "text/plain": [
              "{'A': {'B': 5, 'C': 3},\n",
              " 'B': {'C': 2, 'E': 3, 'G': 1},\n",
              " 'C': {'D': 7, 'E': 7},\n",
              " 'D': {'A': 2, 'F': 6},\n",
              " 'E': {'D': 2, 'F': 1},\n",
              " 'F': {'F': 0},\n",
              " 'G': {'E': 1}}"
            ]
          },
          "metadata": {},
          "execution_count": 49
        }
      ]
    },
    {
      "cell_type": "code",
      "source": [
        "def runDijkstra():\n",
        "    dijkstra = Dijkstra()\n",
        "    dijkstra.add(NodeDistance_Dijkstra)\n",
        "    dijkstra.dijkstraAlgo(\"A\", \"F\")\n",
        "\n",
        "runDijkstra()"
      ],
      "metadata": {
        "colab": {
          "base_uri": "https://localhost:8080/"
        },
        "id": "vsOx4rKlS95D",
        "outputId": "352dca01-1ba3-4361-9a4d-072857dd5088"
      },
      "execution_count": 50,
      "outputs": [
        {
          "output_type": "stream",
          "name": "stdout",
          "text": [
            "F<-E<-G<-B<-A<-\n"
          ]
        }
      ]
    },
    {
      "cell_type": "markdown",
      "source": [
        "# A* Algorithm"
      ],
      "metadata": {
        "id": "qHNs5tY0Supi"
      }
    },
    {
      "cell_type": "code",
      "source": [
        "class AStar ():\n",
        "\n",
        "    def __init__(self):\n",
        "           self.Graph_nodes = dict()\n",
        "\n",
        "    def add(self, graph):\n",
        "            self.Graph_nodes = graph\n",
        "\n",
        "    def aStarAlgo(self, start_node, stop_node):\n",
        "            \n",
        "            open_set = set(start_node) \n",
        "            closed_set = set()\n",
        "            g = {} #store distance from starting node\n",
        "            parents = {}# parents contains an adjacency map of all nodes\n",
        "    \n",
        "            #ditance of starting node from itself is zero\n",
        "            g[start_node] = 0\n",
        "            #start_node is root node i.e it has no parent nodes\n",
        "            #so start_node is set to its own parent node\n",
        "            parents[start_node] = start_node\n",
        "            \n",
        "            \n",
        "            while len(open_set) > 0:\n",
        "                n = None\n",
        "    \n",
        "                #node with lowest f() is found\n",
        "                for v in open_set:\n",
        "                    if n == None or g[v] < g[n]:\n",
        "                        n = v\n",
        "                \n",
        "                        \n",
        "                if n == stop_node or self.Graph_nodes[n] == None:\n",
        "                    pass\n",
        "                else:                    \n",
        "                    for (m, weight) in self.get_neighbors(n):\n",
        "                        #nodes 'm' not in first and last set are added to first\n",
        "                        #n is set its parent\n",
        "                        if m not in open_set and m not in closed_set:\n",
        "                            open_set.add(m)\n",
        "                            parents[m] = n\n",
        "                            g[m] = g[n] + weight\n",
        "                            \n",
        "        \n",
        "                        #for each node m,compare its distance from start i.e g(m) to the\n",
        "                        #from start through n node\n",
        "                        else:\n",
        "                            if g[m] > g[n] + weight:\n",
        "                                #update g(m)\n",
        "                                g[m] = g[n] + weight\n",
        "                                #change parent of m to n\n",
        "                                parents[m] = n\n",
        "                                \n",
        "                                #if m in closed set,remove and add to open\n",
        "                                if m in closed_set:\n",
        "                                    closed_set.remove(m)\n",
        "                                    open_set.add(m)\n",
        "    \n",
        "                if n == None:\n",
        "                    print('Path does not exist!')\n",
        "                    return None\n",
        "    \n",
        "                # if the current node is the stop_node\n",
        "                # then we begin reconstructin the path from it to the start_node\n",
        "                if n == stop_node:\n",
        "                    path = []\n",
        "    \n",
        "                    while parents[n] != n:\n",
        "                        path.append(n)\n",
        "                        n = parents[n]\n",
        "    \n",
        "                    path.append(start_node)\n",
        "    \n",
        "                    path.reverse()\n",
        "    \n",
        "                    print('Path found: {}'.format(path))\n",
        "                    return path\n",
        "    \n",
        "    \n",
        "                # remove n from the open_list, and add it to closed_list\n",
        "                # because all of his neighbors were inspected\n",
        "                open_set.remove(n)\n",
        "                closed_set.add(n)\n",
        "    \n",
        "            print('Path does not exist!')\n",
        "            return None\n",
        "\n",
        "#==================================================================================\n",
        "\n",
        "    #define fuction to return neighbor and its distance\n",
        "    #from the passed node\n",
        "    def get_neighbors(self, v):\n",
        "        if v in self.Graph_nodes:\n",
        "            return self.Graph_nodes[v]\n",
        "        else:\n",
        "            return None\n",
        "    #for simplicity we ll consider heuristic distances given\n",
        "    #and this function returns heuristic distance for all nodes\n",
        "    def heuristic(self, n):\n",
        "            H_dist = {\n",
        "                'A': 11,\n",
        "                'B': 6,\n",
        "                'C': 99,\n",
        "                'D': 1,\n",
        "                'E': 7,\n",
        "                'G': 0,\n",
        "                \n",
        "            }\n",
        "    \n",
        "            return H_dist[n]\n",
        "\n",
        "\n"
      ],
      "metadata": {
        "id": "kuseTB34JvOO"
      },
      "execution_count": 26,
      "outputs": []
    },
    {
      "cell_type": "code",
      "source": [
        "NodeDistance = df.groupby('Node1')[['Node2', 'Distance']].apply(lambda g: list(map(tuple, g.values.tolist()))).to_dict()\n",
        "NodeDistance"
      ],
      "metadata": {
        "colab": {
          "base_uri": "https://localhost:8080/"
        },
        "id": "BAWvu7aQItDw",
        "outputId": "9432e34d-7fa6-40bf-bb9e-96dc0ef625a9"
      },
      "execution_count": 27,
      "outputs": [
        {
          "output_type": "execute_result",
          "data": {
            "text/plain": [
              "{'A': [('B', 5), ('C', 3)],\n",
              " 'B': [('C', 2), ('G', 1), ('E', 3)],\n",
              " 'C': [('D', 7), ('E', 7)],\n",
              " 'D': [('A', 2), ('F', 6)],\n",
              " 'E': [('D', 2), ('F', 1)],\n",
              " 'G': [('E', 1)]}"
            ]
          },
          "metadata": {},
          "execution_count": 27
        }
      ]
    },
    {
      "cell_type": "code",
      "source": [
        "def runAStar():\n",
        "    astar = AStar()\n",
        "    astar.add(NodeDistance)\n",
        "    astar.aStarAlgo(\"A\",\"F\")\n",
        "\n",
        "runAStar()"
      ],
      "metadata": {
        "colab": {
          "base_uri": "https://localhost:8080/"
        },
        "id": "hEzQro9CJOi3",
        "outputId": "b567959f-d29a-4788-cc74-ee0ee18741c4"
      },
      "execution_count": 45,
      "outputs": [
        {
          "output_type": "stream",
          "name": "stdout",
          "text": [
            "Path found: ['A', 'B', 'G', 'E', 'F']\n"
          ]
        }
      ]
    },
    {
      "cell_type": "markdown",
      "source": [
        "# Dijkstra vs A*"
      ],
      "metadata": {
        "id": "N-3wAOaFYJVv"
      }
    },
    {
      "cell_type": "code",
      "source": [
        "print(\"Dijkstra\", Timer(\"runDijkstra()\", \"from __main__ import runDijkstra\").timeit(number=1))\n",
        "print(\"A*\", Timer(\"runAStar()\", \"from __main__ import runAStar\").timeit(number=1))"
      ],
      "metadata": {
        "colab": {
          "base_uri": "https://localhost:8080/"
        },
        "id": "7N6NC24SYNk3",
        "outputId": "6198d519-7579-432a-dc6f-5430f994fbbd"
      },
      "execution_count": 54,
      "outputs": [
        {
          "output_type": "stream",
          "name": "stdout",
          "text": [
            "F<-E<-G<-B<-A<-\n",
            "Dijkstra 0.0008465089995297603\n",
            "Path found: ['A', 'B', 'G', 'E', 'F']\n",
            "A* 0.00013790299999527633\n"
          ]
        }
      ]
    }
  ]
}